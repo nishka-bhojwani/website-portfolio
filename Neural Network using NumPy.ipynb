{
 "cells": [
  {
   "cell_type": "code",
   "execution_count": 2,
   "id": "f9f070e4",
   "metadata": {},
   "outputs": [],
   "source": [
    "#data set \n",
    "\n",
    "a = [0,0,1,1,0,0,\n",
    "     0,1,0,0,1,0,\n",
    "     1,1,1,1,1,1,\n",
    "     1,0,0,0,0,1,\n",
    "     1,0,0,0,0,1\n",
    "     ]\n",
    "\n",
    "b = [0,1,1,1,1,0,\n",
    "     0,1,0,0,1,0,\n",
    "     0,1,1,1,1,0,\n",
    "     0,1,0,0,1,0,\n",
    "     0,1,1,1,1,0]\n",
    "\n",
    "c = [0,1,1,1,1,0,\n",
    "     0,1,0,0,0,0,\n",
    "     0,1,0,0,0,0,\n",
    "     0,1,0,0,0,0,\n",
    "     0,1,1,1,1,0\n",
    "     ]\n",
    "\n",
    "#building a 3 letter classifier \n",
    "#ignoring the bias \n",
    "\n"
   ]
  },
  {
   "cell_type": "code",
   "execution_count": 3,
   "id": "1603037c",
   "metadata": {},
   "outputs": [],
   "source": [
    "#creating labels , which is a numpy nd array with diagonal values 1 \n",
    "\n",
    "y = [[1,0,0],\n",
    "     [0,1,0],\n",
    "     [0,0,1]]\n",
    "\n",
    "import numpy as np \n",
    "import matplotlib.pyplot as plt \n",
    "\n"
   ]
  },
  {
   "cell_type": "code",
   "execution_count": 4,
   "id": "23e1543d",
   "metadata": {},
   "outputs": [
    {
     "data": {
      "image/png": "[encoded data removed]",
      "text/plain": [
       "<Figure size 640x480 with 1 Axes>"
      ]
     },
     "metadata": {},
     "output_type": "display_data"
    }
   ],
   "source": [
    "#visualise the data \n",
    "plt.imshow(np.array(a).reshape(5,6))\n",
    "plt.show()"
   ]
  },
  {
   "cell_type": "code",
   "execution_count": 5,
   "id": "f823e410",
   "metadata": {},
   "outputs": [
    {
     "name": "stdout",
     "output_type": "stream",
     "text": [
      "[array([[0, 0, 1, 1, 0, 0, 0, 1, 0, 0, 1, 0, 1, 1, 1, 1, 1, 1, 1, 0, 0, 0,\n",
      "        0, 1, 1, 0, 0, 0, 0, 1]]), array([[0, 1, 1, 1, 1, 0, 0, 1, 0, 0, 1, 0, 0, 1, 1, 1, 1, 0, 0, 1, 0, 0,\n",
      "        1, 0, 0, 1, 1, 1, 1, 0]]), array([[0, 1, 1, 1, 1, 0, 0, 1, 0, 0, 0, 0, 0, 1, 0, 0, 0, 0, 0, 1, 0, 0,\n",
      "        0, 0, 0, 1, 1, 1, 1, 0]])] \n",
      "\n",
      " [[1 0 0]\n",
      " [0 1 0]\n",
      " [0 0 1]]\n"
     ]
    }
   ],
   "source": [
    "#convert data and labels into numpy array \n",
    "x = [np.array(a).reshape(1,30), np.array(b).reshape(1,30),np.array(c).reshape(1,30)]\n",
    "y = np.array(y)\n",
    "\n",
    "print(x,\"\\n\\n\", y)\n",
    "                                                    "
   ]
  },
  {
   "cell_type": "code",
   "execution_count": 6,
   "id": "6ee34502",
   "metadata": {},
   "outputs": [],
   "source": [
    "#layers --- input (1,30)\n",
    "# hidden layer will have (1,5)\n",
    "#output layer (3,3)\n",
    "\n"
   ]
  },
  {
   "cell_type": "code",
   "execution_count": 10,
   "id": "16920f68",
   "metadata": {},
   "outputs": [],
   "source": [
    "#creating an activation function \n",
    "#defining the sigmoid function \n",
    "def sigmoid(x):\n",
    "    return(1/(1+np.exp(-x)))\n",
    "\n",
    "#creating feed  forward propagation (NN)\n",
    "\n",
    "def f_forward(x,w1,w2):\n",
    "    #hidden layer (linear algorithm to simplify the modeling of the data)\n",
    "    z1 = x.dot(w1)\n",
    "    a1 = sigmoid(z1)\n",
    "    \n",
    "    #ouput layer \n",
    "    z2 = a1.dot(w2)\n",
    "    a2 = sigmoid(z2)\n",
    "    return(a2)\n",
    "\n",
    "\n",
    "\n"
   ]
  },
  {
   "cell_type": "code",
   "execution_count": 11,
   "id": "7367a593",
   "metadata": {},
   "outputs": [],
   "source": [
    "#initialising the weights \n",
    "def generate_wts(x,y):\n",
    "    l = []\n",
    "    for i in range (x*y):\n",
    "        l.append(np.random.randn())\n",
    "    return(np.array(l).reshape(x,y))\n",
    "\n"
   ]
  },
  {
   "cell_type": "code",
   "execution_count": 12,
   "id": "6a2332e1",
   "metadata": {},
   "outputs": [],
   "source": [
    "#creating and checking using loss function \n",
    "\n",
    "def loss(out, Y ):\n",
    "    s = (np.square(out-Y))\n",
    "    s = np.sum(s)/len(y)\n",
    "    return(s)"
   ]
  },
  {
   "cell_type": "code",
   "execution_count": 13,
   "id": "49e378fd",
   "metadata": {},
   "outputs": [],
   "source": [
    "#back propagation \n",
    "def back_prop(x,y,w1,w2,alpha):\n",
    "    \n",
    "    #hidden layer \n",
    "    z1 = x.dot(w1)\n",
    "    a1 = sigmoid(z1)\n",
    "    \n",
    "    #output layer \n",
    "    z2 = a1.dot(w2)\n",
    "    a2 = sigmoid(z2)\n",
    "    \n",
    "    d2 = (a2 - y)\n",
    "    d1 = np.multiply((w2.dot((d2.transpose()))).transpose(),np.multiply(a1,1-a1))\n",
    "    \n",
    "    #gradient \n",
    "    \n",
    "    w1_adj = x.transpose().dot(d1)\n",
    "    w2_adj = a1.transpose().dot(d2)\n",
    "    \n",
    "    w1=w1 - (alpha*(w1_adj))\n",
    "    w2=w2 - (alpha*(w2_adj))\n",
    "    \n",
    "    return(w1,w2)\n",
    "    "
   ]
  },
  {
   "cell_type": "code",
   "execution_count": 14,
   "id": "4d25e5ee",
   "metadata": {},
   "outputs": [],
   "source": [
    "#training the dataset \n",
    "#alpha is used to \n",
    "def train(x,Y,w1,w2,alpha = 0.01 , epoch = 10):\n",
    "    acc = []\n",
    "    loss_list = []\n",
    "    for j in range(epoch):\n",
    "        l = []\n",
    "        for i in range(len(x)):\n",
    "            out = f_forward(x[i], w1 ,w2)\n",
    "            l.append((loss(out,Y[i])))\n",
    "            w1 , w2 = back_prop(x[i],y[i],w1,w2,alpha)\n",
    "        print(\"Epochs: \" , j+1 , \"acc:\" , (1-(sum(l)/len(x)))*100)\n",
    "        acc.append((1-(sum(l)/len(x)))*100)\n",
    "        loss_list.append((sum(l))/len(x))\n",
    "    return (acc, loss , w1, w2)\n",
    "            "
   ]
  },
  {
   "cell_type": "code",
   "execution_count": 15,
   "id": "b7b42d1f",
   "metadata": {},
   "outputs": [],
   "source": [
    "#defining the function to predict the values \n",
    "def predict(x,w1,w2):\n",
    "    Out = f_forward(x,w1,w2)\n",
    "    maxm = 0 \n",
    "    k = 0 \n",
    "    for i in range(len(Out[0])):\n",
    "        if(maxm<Out[0][i]):\n",
    "            maxm = Out[0][i]\n",
    "            k = i\n",
    "        if (k==0):\n",
    "            print(\"Image is of letter A\")\n",
    "        elif( k == 1):\n",
    "            print(\"Image is of letter B \")\n",
    "        else:\n",
    "            print(\"Image is of letter C\")\n",
    "        plt.imshow(x.reshape(5,6))\n",
    "        plt.show()"
   ]
  },
  {
   "cell_type": "code",
   "execution_count": 17,
   "id": "4a00c079",
   "metadata": {},
   "outputs": [
    {
     "name": "stdout",
     "output_type": "stream",
     "text": [
      "[[-5.12024836e-01 -9.83841783e-01 -2.93465698e-01  4.19408101e-01\n",
      "  -1.57262409e+00]\n",
      " [-1.95718985e+00 -1.38996625e-01  1.04526122e+00 -1.62017844e+00\n",
      "  -1.69055739e-01]\n",
      " [-1.09244703e+00  4.31617851e-01  4.13660921e-01 -7.39708731e-01\n",
      "  -5.93507873e-01]\n",
      " [-2.40591300e-01  2.00958670e+00  1.89883014e-01 -5.22561118e-01\n",
      "   3.01973592e-01]\n",
      " [ 6.57440086e-01 -1.18626352e+00 -8.83414704e-01  6.36487138e-01\n",
      "   1.78968314e+00]\n",
      " [ 1.30623109e+00 -1.53869253e+00 -1.58892752e+00 -3.00184369e-02\n",
      "   7.79282793e-01]\n",
      " [ 1.81741166e+00 -3.91978569e-01  2.54357606e-01  4.38492278e-01\n",
      "  -3.68381615e-02]\n",
      " [ 8.87326820e-01 -1.27529236e+00 -1.27341506e-01  1.26568792e-01\n",
      "   9.32144828e-01]\n",
      " [ 1.76269677e-01 -1.31531805e+00 -7.33177004e-01  9.22805567e-01\n",
      "  -8.10012927e-02]\n",
      " [ 2.28824831e-01 -7.49226759e-01 -6.78198297e-01  1.92738365e+00\n",
      "  -6.02460076e-01]\n",
      " [ 4.81876426e-01  1.81516183e+00 -2.13069488e-01  1.51145431e-01\n",
      "   2.74638726e+00]\n",
      " [ 1.82950565e-01 -5.82128399e-01 -2.89814205e-01  6.33908046e-01\n",
      "  -1.21752137e+00]\n",
      " [-1.04499902e+00 -3.49447095e-01 -2.02273877e+00 -8.62371709e-01\n",
      "   3.61295185e-01]\n",
      " [-1.73954207e+00  1.00062009e+00 -3.72334220e-04 -5.65665109e-01\n",
      "  -9.63719863e-01]\n",
      " [ 1.59542157e+00  3.70207329e-01 -7.98121670e-01  5.53276049e-01\n",
      "  -6.74454031e-01]\n",
      " [-8.29300700e-01 -1.71022188e-01 -1.51721986e+00  8.12069851e-01\n",
      "  -7.99129528e-01]\n",
      " [ 2.35497087e-02 -5.57062158e-01 -2.57564323e+00  4.21582414e-01\n",
      "   9.21331395e-01]\n",
      " [-2.76302506e-01 -4.90322200e-01  4.85691336e-01 -9.18361247e-01\n",
      "  -1.95250561e+00]\n",
      " [ 1.33946731e+00  8.72949089e-01  8.98560534e-02  1.14446892e+00\n",
      "  -4.71830860e-01]\n",
      " [ 2.44976877e-01 -2.66706523e-01 -2.42085000e-01  1.49625643e+00\n",
      "   3.28800495e-01]\n",
      " [-3.36998236e-01  1.50919646e-01  4.06658343e-01 -1.29969674e-01\n",
      "   1.33797568e+00]\n",
      " [ 5.01366712e-02  5.15561655e-01  4.23821463e-01  1.14918250e+00\n",
      "  -6.90608031e-01]\n",
      " [-1.85699013e+00  1.49782744e+00 -8.48190507e-01  3.30090839e-01\n",
      "   7.09044039e-02]\n",
      " [-1.50852333e+00  5.50458611e-01  7.37467522e-01  1.08237490e+00\n",
      "   1.29869610e+00]\n",
      " [ 1.30931944e+00 -2.99681714e-01  5.82136053e-01  4.03464103e-01\n",
      "   4.37783893e-01]\n",
      " [-4.01111444e+00 -7.55736972e-01  1.72293686e+00 -3.54496537e-01\n",
      "   1.26425324e+00]\n",
      " [-1.01650598e-01  1.72682815e+00 -1.43664048e+00 -8.40328222e-01\n",
      "   7.46257369e-01]\n",
      " [-1.25449878e+00  1.65024645e+00 -6.04903119e-01  9.04973301e-01\n",
      "   6.87123906e-01]\n",
      " [-9.40262623e-01 -4.82823815e-01  1.45127736e+00  1.54004644e+00\n",
      "   4.06433492e-01]\n",
      " [ 2.21938377e-01  1.81326215e+00  8.04948649e-01 -6.22749484e-02\n",
      "   2.43971517e+00]] \n",
      " [[-1.87665799  1.06985372 -0.83930797]\n",
      " [-0.0194658  -0.4921161  -1.10762358]\n",
      " [ 0.17164243 -0.67318319  1.35978038]\n",
      " [ 0.25748356  0.7159328  -0.84407604]\n",
      " [-0.08040604  1.88661742 -2.04679142]]\n"
     ]
    }
   ],
   "source": [
    "w1 = generate_wts(30,5)\n",
    "w2 = generate_wts(5,3)\n",
    "print(w1,\"\\n\", w2)\n",
    "\n"
   ]
  },
  {
   "cell_type": "code",
   "execution_count": 22,
   "id": "102ac6e3",
   "metadata": {},
   "outputs": [
    {
     "name": "stdout",
     "output_type": "stream",
     "text": [
      "Epochs:  1 acc: 82.9664717064407\n",
      "Epochs:  2 acc: 83.0184963308859\n",
      "Epochs:  3 acc: 83.06953581027786\n",
      "Epochs:  4 acc: 83.11961396835126\n",
      "Epochs:  5 acc: 83.16875404499856\n",
      "Epochs:  6 acc: 83.21697871087268\n",
      "Epochs:  7 acc: 83.26431008153456\n",
      "Epochs:  8 acc: 83.31076973116727\n",
      "Epochs:  9 acc: 83.35637870587674\n",
      "Epochs:  10 acc: 83.40115753659798\n",
      "Epochs:  11 acc: 83.4451262516251\n",
      "Epochs:  12 acc: 83.48830438878174\n",
      "Epochs:  13 acc: 83.5307110072484\n",
      "Epochs:  14 acc: 83.57236469906138\n",
      "Epochs:  15 acc: 83.6132836002978\n",
      "Epochs:  16 acc: 83.65348540195993\n",
      "Epochs:  17 acc: 83.69298736057138\n",
      "Epochs:  18 acc: 83.73180630849723\n",
      "Epochs:  19 acc: 83.76995866399871\n",
      "Epochs:  20 acc: 83.80746044103333\n",
      "Epochs:  21 acc: 83.84432725880987\n",
      "Epochs:  22 acc: 83.88057435110761\n",
      "Epochs:  23 acc: 83.91621657536832\n",
      "Epochs:  24 acc: 83.95126842156917\n",
      "Epochs:  25 acc: 83.98574402088394\n",
      "Epochs:  26 acc: 84.01965715414005\n",
      "Epochs:  27 acc: 84.05302126007767\n",
      "Epochs:  28 acc: 84.0858494434176\n",
      "Epochs:  29 acc: 84.11815448274356\n",
      "Epochs:  30 acc: 84.14994883820465\n",
      "Epochs:  31 acc: 84.1812446590433\n",
      "Epochs:  32 acc: 84.21205379095345\n",
      "Epochs:  33 acc: 84.2423877832739\n",
      "Epochs:  34 acc: 84.27225789602126\n",
      "Epochs:  35 acc: 84.30167510676657\n",
      "Epochs:  36 acc: 84.33065011735961\n",
      "Epochs:  37 acc: 84.3591933605051\n",
      "Epochs:  38 acc: 84.38731500619376\n",
      "Epochs:  39 acc: 84.41502496799215\n",
      "Epochs:  40 acc: 84.44233290919449\n",
      "Epochs:  41 acc: 84.46924824883962\n",
      "Epochs:  42 acc: 84.495780167596\n",
      "Epochs:  43 acc: 84.52193761351776\n",
      "Epochs:  44 acc: 84.54772930767471\n",
      "Epochs:  45 acc: 84.57316374965872\n",
      "Epochs:  46 acc: 84.59824922296926\n",
      "Epochs:  47 acc: 84.62299380028063\n",
      "Epochs:  48 acc: 84.64740534859317\n",
      "Epochs:  49 acc: 84.67149153427087\n",
      "Epochs:  50 acc: 84.69525982796775\n",
      "Epochs:  51 acc: 84.71871750944499\n",
      "Epochs:  52 acc: 84.7418716722813\n",
      "Epochs:  53 acc: 84.76472922847837\n",
      "Epochs:  54 acc: 84.78729691296347\n",
      "Epochs:  55 acc: 84.80958128799148\n",
      "Epochs:  56 acc: 84.8315887474479\n",
      "Epochs:  57 acc: 84.8533255210551\n",
      "Epochs:  58 acc: 84.87479767848353\n",
      "Epochs:  59 acc: 84.89601113336978\n",
      "Epochs:  60 acc: 84.91697164724317\n",
      "Epochs:  61 acc: 84.93768483336292\n",
      "Epochs:  62 acc: 84.95815616046738\n",
      "Epochs:  63 acc: 84.97839095643712\n",
      "Epochs:  64 acc: 84.99839441187362\n",
      "Epochs:  65 acc: 85.01817158359506\n",
      "Epochs:  66 acc: 85.03772739805116\n",
      "Epochs:  67 acc: 85.05706665465817\n",
      "Epochs:  68 acc: 85.07619402905603\n",
      "Epochs:  69 acc: 85.0951140762891\n",
      "Epochs:  70 acc: 85.11383123391187\n",
      "Epochs:  71 acc: 85.13234982502141\n",
      "Epochs:  72 acc: 85.15067406121763\n",
      "Epochs:  73 acc: 85.16880804549342\n",
      "Epochs:  74 acc: 85.18675577505542\n",
      "Epochs:  75 acc: 85.20452114407729\n",
      "Epochs:  76 acc: 85.22210794638679\n",
      "Epochs:  77 acc: 85.23951987808795\n",
      "Epochs:  78 acc: 85.25676054011969\n",
      "Epochs:  79 acc: 85.27383344075218\n",
      "Epochs:  80 acc: 85.2907419980226\n",
      "Epochs:  81 acc: 85.30748954211093\n",
      "Epochs:  82 acc: 85.32407931765759\n",
      "Epochs:  83 acc: 85.34051448602406\n",
      "Epochs:  84 acc: 85.35679812749751\n",
      "Epochs:  85 acc: 85.37293324344073\n",
      "Epochs:  86 acc: 85.3889227583888\n",
      "Epochs:  87 acc: 85.40476952209323\n",
      "Epochs:  88 acc: 85.42047631151505\n",
      "Epochs:  89 acc: 85.43604583276785\n",
      "Epochs:  90 acc: 85.45148072301188\n",
      "Epochs:  91 acc: 85.46678355230033\n",
      "Epochs:  92 acc: 85.4819568253788\n",
      "Epochs:  93 acc: 85.49700298343912\n",
      "Epochs:  94 acc: 85.51192440582842\n",
      "Epochs:  95 acc: 85.52672341171458\n",
      "Epochs:  96 acc: 85.54140226170898\n",
      "Epochs:  97 acc: 85.55596315944756\n",
      "Epochs:  98 acc: 85.57040825313106\n",
      "Epochs:  99 acc: 85.58473963702568\n",
      "Epochs:  100 acc: 85.59895935292461\n"
     ]
    }
   ],
   "source": [
    "#getting the accuracy the loss and the weights after training \n",
    "acc, losss , w1 , w2 = train(x,y,w1,w2,0.01 ,100)\n"
   ]
  },
  {
   "cell_type": "code",
   "execution_count": 26,
   "id": "3ea9bccb",
   "metadata": {},
   "outputs": [
    {
     "data": {
      "image/png": "[encoded data removed]",
      "text/plain": [
       "<Figure size 640x480 with 1 Axes>"
      ]
     },
     "metadata": {},
     "output_type": "display_data"
    }
   ],
   "source": [
    "import matplotlib.pyplot as plt1\n",
    "\n",
    "plt.plot(acc)\n",
    "plt.ylabel(\"Accuracy\")\n",
    "plt.xlabel(\"Epochs\")\n",
    "plt.show()"
   ]
  },
  {
   "cell_type": "code",
   "execution_count": null,
   "id": "622ce206-22cb-4de1-93c8-5f3602090634",
   "metadata": {},
   "outputs": [],
   "source": [
    "\n"
   ]
  }
 ],
 "metadata": {
  "kernelspec": {
   "display_name": "Python 3 (ipykernel)",
   "language": "python",
   "name": "python3"
  },
  "language_info": {
   "codemirror_mode": {
    "name": "ipython",
    "version": 3
   },
   "file_extension": ".py",
   "mimetype": "text/x-python",
   "name": "python",
   "nbconvert_exporter": "python",
   "pygments_lexer": "ipython3",
   "version": "3.11.7"
  }
 },
 "nbformat": 4,
 "nbformat_minor": 5
}
